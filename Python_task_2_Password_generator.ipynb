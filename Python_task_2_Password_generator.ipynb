{
  "nbformat": 4,
  "nbformat_minor": 0,
  "metadata": {
    "colab": {
      "provenance": [],
      "authorship_tag": "ABX9TyNn+XAFn4Ze7v32BLQCg+kj",
      "include_colab_link": true
    },
    "kernelspec": {
      "name": "python3",
      "display_name": "Python 3"
    },
    "language_info": {
      "name": "python"
    }
  },
  "cells": [
    {
      "cell_type": "markdown",
      "metadata": {
        "id": "view-in-github",
        "colab_type": "text"
      },
      "source": [
        "<a href=\"https://colab.research.google.com/github/ThandieRmane/CodSoft-Python-projects/blob/main/Python_task_2_Password_generator.ipynb\" target=\"_parent\"><img src=\"https://colab.research.google.com/assets/colab-badge.svg\" alt=\"Open In Colab\"/></a>"
      ]
    },
    {
      "cell_type": "code",
      "execution_count": 1,
      "metadata": {
        "colab": {
          "base_uri": "https://localhost:8080/"
        },
        "id": "gEGGZexVYRX0",
        "outputId": "5c8ea7b1-047a-4c7a-ae4e-db50a8750aa1"
      },
      "outputs": [
        {
          "output_type": "stream",
          "name": "stdout",
          "text": [
            "Enter the desired password length: 3\n",
            "Invalid password length. Password must have atleast 6 characters.\n"
          ]
        }
      ],
      "source": [
        "import random\n",
        "import string\n",
        "\n",
        "def generate_password(length=12):\n",
        "    characters = string.ascii_letters + string.digits + string.punctuation\n",
        "    password = ''.join(random.choice(characters) for _ in range(length))\n",
        "    return password\n",
        "\n",
        "if __name__ == \"__main__\":\n",
        "    password_length = int(input(\"Enter the desired password length: \"))\n",
        "\n",
        "    if password_length <= 6:\n",
        "        print(\"Invalid password length. Password must have atleast 6 characters.\")\n",
        "    else:\n",
        "        generated_password = generate_password(password_length)\n",
        "        print(\"Generated Password:\", generated_password)"
      ]
    }
  ]
}