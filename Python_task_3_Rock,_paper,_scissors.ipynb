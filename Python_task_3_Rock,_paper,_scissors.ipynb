{
  "nbformat": 4,
  "nbformat_minor": 0,
  "metadata": {
    "colab": {
      "provenance": [],
      "authorship_tag": "ABX9TyMgPG+Jk20PMsrBlgG9Jwv8",
      "include_colab_link": true
    },
    "kernelspec": {
      "name": "python3",
      "display_name": "Python 3"
    },
    "language_info": {
      "name": "python"
    }
  },
  "cells": [
    {
      "cell_type": "markdown",
      "metadata": {
        "id": "view-in-github",
        "colab_type": "text"
      },
      "source": [
        "<a href=\"https://colab.research.google.com/github/ThandieRmane/CodSoft-Python-projects/blob/main/Python_task_3_Rock%2C_paper%2C_scissors.ipynb\" target=\"_parent\"><img src=\"https://colab.research.google.com/assets/colab-badge.svg\" alt=\"Open In Colab\"/></a>"
      ]
    },
    {
      "cell_type": "code",
      "execution_count": 1,
      "metadata": {
        "colab": {
          "base_uri": "https://localhost:8080/"
        },
        "id": "YCFiAGzTXcZY",
        "outputId": "9ca817ed-af7b-47c4-8737-70e45389b44b"
      },
      "outputs": [
        {
          "output_type": "stream",
          "name": "stdout",
          "text": [
            "Welcome! Let's play Rock, Paper, Scissors!\n",
            "Choose rock, paper, or scissors: paper\n",
            "You chose paper.\n",
            "Computer chose rock.\n",
            "Congrats! You win!\n",
            "Would you like to play again? (yes/no): yes\n",
            "Choose rock, paper, or scissors: rock\n",
            "You chose rock.\n",
            "Computer chose scissors.\n",
            "Congrats! You win!\n",
            "Would you like to play again? (yes/no): no\n",
            "Thanks for playing! Exiting the game.\n"
          ]
        }
      ],
      "source": [
        "import random\n",
        "\n",
        "def get_user_choice():\n",
        "    user_choice = input(\"Choose rock, paper, or scissors: \").lower()\n",
        "    while user_choice not in ['rock', 'paper', 'scissors']:\n",
        "        print(\"Invalid choice. Please choose rock, paper, or scissors.\")\n",
        "        user_choice = input(\"Choose rock, paper, or scissors: \").lower()\n",
        "    return user_choice\n",
        "\n",
        "def get_computer_choice():\n",
        "    return random.choice(['rock', 'paper', 'scissors'])\n",
        "\n",
        "def determine_winner(user_choice, computer_choice):\n",
        "    if user_choice == computer_choice:\n",
        "        return \"It's a tie!\"\n",
        "    elif (\n",
        "        (user_choice == 'rock' and computer_choice == 'scissors') or\n",
        "        (user_choice == 'paper' and computer_choice == 'rock') or\n",
        "        (user_choice == 'scissors' and computer_choice == 'paper')\n",
        "    ):\n",
        "        return \"Congrats! You win!\"\n",
        "    else:\n",
        "        return \"Sorry, computer wins!\"\n",
        "\n",
        "def play_game():\n",
        "    print(\"Welcome! Let's play Rock, Paper, Scissors!\")\n",
        "\n",
        "    while True:\n",
        "        user_choice = get_user_choice()\n",
        "        computer_choice = get_computer_choice()\n",
        "\n",
        "        print(f\"You chose {user_choice}.\")\n",
        "        print(f\"Computer chose {computer_choice}.\")\n",
        "\n",
        "        result = determine_winner(user_choice, computer_choice)\n",
        "        print(result)\n",
        "\n",
        "        play_again = input(\"Would you like to play again? (yes/no): \").lower()\n",
        "        if play_again != 'yes':\n",
        "            print(\"Thanks for playing! Exiting the game.\")\n",
        "            break\n",
        "\n",
        "if __name__ == \"__main__\":\n",
        "    play_game()"
      ]
    }
  ]
}